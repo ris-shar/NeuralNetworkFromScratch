{
  "nbformat": 4,
  "nbformat_minor": 0,
  "metadata": {
    "colab": {
      "provenance": [],
      "authorship_tag": "ABX9TyPIJPk1suK6+c3pzDUgot+v",
      "include_colab_link": true
    },
    "kernelspec": {
      "name": "python3",
      "display_name": "Python 3"
    },
    "language_info": {
      "name": "python"
    }
  },
  "cells": [
    {
      "cell_type": "markdown",
      "metadata": {
        "id": "view-in-github",
        "colab_type": "text"
      },
      "source": [
        "<a href=\"https://colab.research.google.com/github/ris-shar/NeuralNetworkFromScratch/blob/main/Neural_networks_from_scratch.ipynb\" target=\"_parent\"><img src=\"https://colab.research.google.com/assets/colab-badge.svg\" alt=\"Open In Colab\"/></a>"
      ]
    },
    {
      "cell_type": "code",
      "execution_count": 1,
      "metadata": {
        "id": "ONQ1VMiqXhXS"
      },
      "outputs": [],
      "source": [
        "import numpy as np\n",
        "import pandas as pd\n",
        "from matplotlib import pyplot as plt\n",
        "import tensorflow as tf\n"
      ]
    },
    {
      "cell_type": "code",
      "source": [
        "#getting the mnist data\n",
        "mnist = tf.keras.datasets.mnist\n",
        "(x_train, y_train),(x_test, y_test) = mnist.load_data()\n",
        "x_train = tf.keras.utils.normalize(x_train, axis=1)\n",
        "x_test = tf.keras.utils.normalize(x_test, axis=1)\n",
        "au = x_test\n",
        "print(x_train.shape)"
      ],
      "metadata": {
        "colab": {
          "base_uri": "https://localhost:8080/"
        },
        "id": "VO3IUSmrPNdk",
        "outputId": "7460f995-82ee-4fba-f5a2-4f7696ae0158"
      },
      "execution_count": 2,
      "outputs": [
        {
          "output_type": "stream",
          "name": "stdout",
          "text": [
            "Downloading data from https://storage.googleapis.com/tensorflow/tf-keras-datasets/mnist.npz\n",
            "11490434/11490434 [==============================] - 0s 0us/step\n",
            "(60000, 28, 28)\n"
          ]
        }
      ]
    },
    {
      "cell_type": "code",
      "source": [
        "data = mnist.load_data()\n",
        "data = np.array(data)\n",
        "m, n = data.shape"
      ],
      "metadata": {
        "colab": {
          "base_uri": "https://localhost:8080/"
        },
        "id": "Hkuhl5-qSike",
        "outputId": "cf908e20-45a7-4ac4-f889-80139c26ba20"
      },
      "execution_count": 3,
      "outputs": [
        {
          "output_type": "stream",
          "name": "stderr",
          "text": [
            "<ipython-input-3-1aa1b252abdf>:2: VisibleDeprecationWarning: Creating an ndarray from ragged nested sequences (which is a list-or-tuple of lists-or-tuples-or ndarrays with different lengths or shapes) is deprecated. If you meant to do this, you must specify 'dtype=object' when creating the ndarray.\n",
            "  data = np.array(data)\n"
          ]
        }
      ]
    },
    {
      "cell_type": "code",
      "source": [
        "x_train = x_train.reshape(60000,784)\n",
        "x_train = x_train.T\n",
        "x_train.shape"
      ],
      "metadata": {
        "colab": {
          "base_uri": "https://localhost:8080/"
        },
        "id": "2MG7FrpzQlhT",
        "outputId": "8f7d11f9-e292-419b-b989-b49670c57160"
      },
      "execution_count": 4,
      "outputs": [
        {
          "output_type": "execute_result",
          "data": {
            "text/plain": [
              "(784, 60000)"
            ]
          },
          "metadata": {},
          "execution_count": 4
        }
      ]
    },
    {
      "cell_type": "code",
      "source": [
        "def init_params():\n",
        "    W1 = np.random.rand(10, 784) - 0.5\n",
        "    b1 = np.random.rand(10, 1) - 0.5\n",
        "    W2 = np.random.rand(10, 10) - 0.5\n",
        "    b2 = np.random.rand(10, 1) - 0.5\n",
        "    return W1, b1, W2, b2\n",
        "\n",
        "def ReLU(Z):\n",
        "    return np.maximum(Z, 0)\n",
        "\n",
        "def softmax(Z):\n",
        "    A = np.exp(Z) / sum(np.exp(Z))\n",
        "    return A\n",
        "    \n",
        "def forward_prop(W1, b1, W2, b2, X):\n",
        "    Z1 = W1.dot(X) + b1\n",
        "    A1 = ReLU(Z1)\n",
        "    Z2 = W2.dot(A1) + b2\n",
        "    A2 = softmax(Z2)\n",
        "    return Z1, A1, Z2, A2\n",
        "\n",
        "def ReLU_deriv(Z):\n",
        "    return Z > 0\n",
        "\n",
        "def one_hot(Y):\n",
        "    one_hot_Y = np.zeros((Y.size, Y.max() + 1))\n",
        "    one_hot_Y[np.arange(Y.size), Y] = 1\n",
        "    one_hot_Y = one_hot_Y.T\n",
        "    return one_hot_Y\n",
        "\n",
        "def backward_prop(Z1, A1, Z2, A2, W1, W2, X, Y):\n",
        "    one_hot_Y = one_hot(Y)\n",
        "    dZ2 = A2 - one_hot_Y\n",
        "    dW2 = 1 / m * dZ2.dot(A1.T)\n",
        "    db2 = 1 / m * np.sum(dZ2)\n",
        "    dZ1 = W2.T.dot(dZ2) * ReLU_deriv(Z1)\n",
        "    dW1 = 1 / m * dZ1.dot(X.T)\n",
        "    db1 = 1 / m * np.sum(dZ1)\n",
        "    return dW1, db1, dW2, db2\n",
        "\n",
        "def update_params(W1, b1, W2, b2, dW1, db1, dW2, db2, alpha):\n",
        "    W1 = W1 - alpha * dW1\n",
        "    b1 = b1 - alpha * db1    \n",
        "    W2 = W2 - alpha * dW2  \n",
        "    b2 = b2 - alpha * db2    \n",
        "    return W1, b1, W2, b2"
      ],
      "metadata": {
        "id": "UerTOqbxOwaE"
      },
      "execution_count": 5,
      "outputs": []
    },
    {
      "cell_type": "code",
      "source": [
        "def get_predictions(A2):\n",
        "    return np.argmax(A2, 0)\n",
        "\n",
        "def get_accuracy(predictions, Y):\n",
        "    print(predictions, Y)\n",
        "    return np.sum(predictions == Y) / Y.size\n",
        "\n",
        "def gradient_descent(X, Y, alpha, iterations):\n",
        "    W1, b1, W2, b2 = init_params()\n",
        "    for i in range(iterations):\n",
        "        Z1, A1, Z2, A2 = forward_prop(W1, b1, W2, b2, X)\n",
        "        dW1, db1, dW2, db2 = backward_prop(Z1, A1, Z2, A2, W1, W2, X, Y)\n",
        "        W1, b1, W2, b2 = update_params(W1, b1, W2, b2, dW1, db1, dW2, db2, alpha)\n",
        "        if i % 10 == 0:\n",
        "            print(\"Iteration: \", i)\n",
        "            predictions = get_predictions(A2)\n",
        "            print(get_accuracy(predictions, Y))\n",
        "    return W1, b1, W2, b2"
      ],
      "metadata": {
        "id": "OcskivgWPYMt"
      },
      "execution_count": 6,
      "outputs": []
    },
    {
      "cell_type": "code",
      "source": [
        "W1, b1, W2, b2 = gradient_descent(x_train, y_train, 0.10, 500)"
      ],
      "metadata": {
        "colab": {
          "base_uri": "https://localhost:8080/"
        },
        "id": "10iMoZ5tPd6u",
        "outputId": "ad788e82-020a-4b31-aadd-e57e58d326b8"
      },
      "execution_count": 7,
      "outputs": [
        {
          "output_type": "stream",
          "name": "stdout",
          "text": [
            "Iteration:  0\n",
            "[4 5 4 ... 5 5 4] [5 0 4 ... 5 6 8]\n",
            "0.1047\n"
          ]
        },
        {
          "output_type": "stream",
          "name": "stderr",
          "text": [
            "<ipython-input-5-9f0ad550be7a>:12: RuntimeWarning: overflow encountered in exp\n",
            "  A = np.exp(Z) / sum(np.exp(Z))\n",
            "<ipython-input-5-9f0ad550be7a>:12: RuntimeWarning: invalid value encountered in true_divide\n",
            "  A = np.exp(Z) / sum(np.exp(Z))\n"
          ]
        },
        {
          "output_type": "stream",
          "name": "stdout",
          "text": [
            "Iteration:  10\n",
            "[0 0 0 ... 0 0 0] [5 0 4 ... 5 6 8]\n",
            "0.09871666666666666\n",
            "Iteration:  20\n",
            "[0 0 0 ... 0 0 0] [5 0 4 ... 5 6 8]\n",
            "0.09871666666666666\n",
            "Iteration:  30\n",
            "[0 0 0 ... 0 0 0] [5 0 4 ... 5 6 8]\n",
            "0.09871666666666666\n",
            "Iteration:  40\n",
            "[0 0 0 ... 0 0 0] [5 0 4 ... 5 6 8]\n",
            "0.09871666666666666\n",
            "Iteration:  50\n",
            "[0 0 0 ... 0 0 0] [5 0 4 ... 5 6 8]\n",
            "0.09871666666666666\n",
            "Iteration:  60\n",
            "[0 0 0 ... 0 0 0] [5 0 4 ... 5 6 8]\n",
            "0.09871666666666666\n",
            "Iteration:  70\n",
            "[0 0 0 ... 0 0 0] [5 0 4 ... 5 6 8]\n",
            "0.09871666666666666\n",
            "Iteration:  80\n",
            "[0 0 0 ... 0 0 0] [5 0 4 ... 5 6 8]\n",
            "0.09871666666666666\n",
            "Iteration:  90\n",
            "[0 0 0 ... 0 0 0] [5 0 4 ... 5 6 8]\n",
            "0.09871666666666666\n",
            "Iteration:  100\n",
            "[0 0 0 ... 0 0 0] [5 0 4 ... 5 6 8]\n",
            "0.09871666666666666\n",
            "Iteration:  110\n",
            "[0 0 0 ... 0 0 0] [5 0 4 ... 5 6 8]\n",
            "0.09871666666666666\n",
            "Iteration:  120\n",
            "[0 0 0 ... 0 0 0] [5 0 4 ... 5 6 8]\n",
            "0.09871666666666666\n",
            "Iteration:  130\n",
            "[0 0 0 ... 0 0 0] [5 0 4 ... 5 6 8]\n",
            "0.09871666666666666\n",
            "Iteration:  140\n",
            "[0 0 0 ... 0 0 0] [5 0 4 ... 5 6 8]\n",
            "0.09871666666666666\n",
            "Iteration:  150\n",
            "[0 0 0 ... 0 0 0] [5 0 4 ... 5 6 8]\n",
            "0.09871666666666666\n",
            "Iteration:  160\n",
            "[0 0 0 ... 0 0 0] [5 0 4 ... 5 6 8]\n",
            "0.09871666666666666\n",
            "Iteration:  170\n",
            "[0 0 0 ... 0 0 0] [5 0 4 ... 5 6 8]\n",
            "0.09871666666666666\n",
            "Iteration:  180\n",
            "[0 0 0 ... 0 0 0] [5 0 4 ... 5 6 8]\n",
            "0.09871666666666666\n",
            "Iteration:  190\n",
            "[0 0 0 ... 0 0 0] [5 0 4 ... 5 6 8]\n",
            "0.09871666666666666\n",
            "Iteration:  200\n",
            "[0 0 0 ... 0 0 0] [5 0 4 ... 5 6 8]\n",
            "0.09871666666666666\n",
            "Iteration:  210\n",
            "[0 0 0 ... 0 0 0] [5 0 4 ... 5 6 8]\n",
            "0.09871666666666666\n",
            "Iteration:  220\n",
            "[0 0 0 ... 0 0 0] [5 0 4 ... 5 6 8]\n",
            "0.09871666666666666\n",
            "Iteration:  230\n",
            "[0 0 0 ... 0 0 0] [5 0 4 ... 5 6 8]\n",
            "0.09871666666666666\n",
            "Iteration:  240\n",
            "[0 0 0 ... 0 0 0] [5 0 4 ... 5 6 8]\n",
            "0.09871666666666666\n",
            "Iteration:  250\n",
            "[0 0 0 ... 0 0 0] [5 0 4 ... 5 6 8]\n",
            "0.09871666666666666\n",
            "Iteration:  260\n",
            "[0 0 0 ... 0 0 0] [5 0 4 ... 5 6 8]\n",
            "0.09871666666666666\n",
            "Iteration:  270\n",
            "[0 0 0 ... 0 0 0] [5 0 4 ... 5 6 8]\n",
            "0.09871666666666666\n",
            "Iteration:  280\n",
            "[0 0 0 ... 0 0 0] [5 0 4 ... 5 6 8]\n",
            "0.09871666666666666\n",
            "Iteration:  290\n",
            "[0 0 0 ... 0 0 0] [5 0 4 ... 5 6 8]\n",
            "0.09871666666666666\n",
            "Iteration:  300\n",
            "[0 0 0 ... 0 0 0] [5 0 4 ... 5 6 8]\n",
            "0.09871666666666666\n",
            "Iteration:  310\n",
            "[0 0 0 ... 0 0 0] [5 0 4 ... 5 6 8]\n",
            "0.09871666666666666\n",
            "Iteration:  320\n",
            "[0 0 0 ... 0 0 0] [5 0 4 ... 5 6 8]\n",
            "0.09871666666666666\n",
            "Iteration:  330\n",
            "[0 0 0 ... 0 0 0] [5 0 4 ... 5 6 8]\n",
            "0.09871666666666666\n",
            "Iteration:  340\n",
            "[0 0 0 ... 0 0 0] [5 0 4 ... 5 6 8]\n",
            "0.09871666666666666\n",
            "Iteration:  350\n",
            "[0 0 0 ... 0 0 0] [5 0 4 ... 5 6 8]\n",
            "0.09871666666666666\n",
            "Iteration:  360\n",
            "[0 0 0 ... 0 0 0] [5 0 4 ... 5 6 8]\n",
            "0.09871666666666666\n",
            "Iteration:  370\n",
            "[0 0 0 ... 0 0 0] [5 0 4 ... 5 6 8]\n",
            "0.09871666666666666\n",
            "Iteration:  380\n",
            "[0 0 0 ... 0 0 0] [5 0 4 ... 5 6 8]\n",
            "0.09871666666666666\n",
            "Iteration:  390\n",
            "[0 0 0 ... 0 0 0] [5 0 4 ... 5 6 8]\n",
            "0.09871666666666666\n",
            "Iteration:  400\n",
            "[0 0 0 ... 0 0 0] [5 0 4 ... 5 6 8]\n",
            "0.09871666666666666\n",
            "Iteration:  410\n",
            "[0 0 0 ... 0 0 0] [5 0 4 ... 5 6 8]\n",
            "0.09871666666666666\n",
            "Iteration:  420\n",
            "[0 0 0 ... 0 0 0] [5 0 4 ... 5 6 8]\n",
            "0.09871666666666666\n",
            "Iteration:  430\n",
            "[0 0 0 ... 0 0 0] [5 0 4 ... 5 6 8]\n",
            "0.09871666666666666\n",
            "Iteration:  440\n",
            "[0 0 0 ... 0 0 0] [5 0 4 ... 5 6 8]\n",
            "0.09871666666666666\n",
            "Iteration:  450\n",
            "[0 0 0 ... 0 0 0] [5 0 4 ... 5 6 8]\n",
            "0.09871666666666666\n",
            "Iteration:  460\n",
            "[0 0 0 ... 0 0 0] [5 0 4 ... 5 6 8]\n",
            "0.09871666666666666\n",
            "Iteration:  470\n",
            "[0 0 0 ... 0 0 0] [5 0 4 ... 5 6 8]\n",
            "0.09871666666666666\n",
            "Iteration:  480\n",
            "[0 0 0 ... 0 0 0] [5 0 4 ... 5 6 8]\n",
            "0.09871666666666666\n",
            "Iteration:  490\n",
            "[0 0 0 ... 0 0 0] [5 0 4 ... 5 6 8]\n",
            "0.09871666666666666\n"
          ]
        }
      ]
    },
    {
      "cell_type": "code",
      "source": [
        "def make_predictions(X, W1, b1, W2, b2):\n",
        "    _, _, _, A2 = forward_prop(W1, b1, W2, b2, X)\n",
        "    predictions = get_predictions(A2)\n",
        "    return predictions\n",
        "\n",
        "def test_prediction(index, W1, b1, W2, b2):\n",
        "    current_image = x_train[:, index, None]\n",
        "    prediction = make_predictions(x_train[:, index, None], W1, b1, W2, b2)\n",
        "    label = y_train[index]\n",
        "    print(\"Prediction: \", prediction)\n",
        "    print(\"Label: \", label)\n",
        "    \n",
        "    current_image = current_image.reshape((28, 28)) * 255\n",
        "    plt.gray()\n",
        "    plt.imshow(current_image, interpolation='nearest')\n",
        "    plt.show()"
      ],
      "metadata": {
        "id": "OWTG0QWvPhNt"
      },
      "execution_count": 8,
      "outputs": []
    },
    {
      "cell_type": "code",
      "source": [
        "test_prediction(0, W1, b1, W2, b2)\n",
        "test_prediction(1, W1, b1, W2, b2)\n",
        "test_prediction(2, W1, b1, W2, b2)\n",
        "test_prediction(3, W1, b1, W2, b2)"
      ],
      "metadata": {
        "colab": {
          "base_uri": "https://localhost:8080/",
          "height": 1000
        },
        "id": "N3dKlvyPT2Z-",
        "outputId": "4cbf0a2a-c113-41bb-cd12-e7f4d8003775"
      },
      "execution_count": 9,
      "outputs": [
        {
          "output_type": "stream",
          "name": "stdout",
          "text": [
            "Prediction:  [0]\n",
            "Label:  5\n"
          ]
        },
        {
          "output_type": "display_data",
          "data": {
            "text/plain": [
              "<Figure size 640x480 with 1 Axes>"
            ],
            "image/png": "[encoded data removed]"
          },
          "metadata": {}
        },
        {
          "output_type": "stream",
          "name": "stdout",
          "text": [
            "Prediction:  [0]\n",
            "Label:  0\n"
          ]
        },
        {
          "output_type": "display_data",
          "data": {
            "text/plain": [
              "<Figure size 640x480 with 1 Axes>"
            ],
            "image/png": "[encoded data removed]"
          },
          "metadata": {}
        },
        {
          "output_type": "stream",
          "name": "stdout",
          "text": [
            "Prediction:  [0]\n",
            "Label:  4\n"
          ]
        },
        {
          "output_type": "display_data",
          "data": {
            "text/plain": [
              "<Figure size 640x480 with 1 Axes>"
            ],
            "image/png": "[encoded data removed]"
          },
          "metadata": {}
        },
        {
          "output_type": "stream",
          "name": "stdout",
          "text": [
            "Prediction:  [0]\n",
            "Label:  1\n"
          ]
        },
        {
          "output_type": "display_data",
          "data": {
            "text/plain": [
              "<Figure size 640x480 with 1 Axes>"
            ],
            "image/png": "[encoded data removed]"
          },
          "metadata": {}
        }
      ]
    },
    {
      "cell_type": "code",
      "source": [],
      "metadata": {
        "id": "izLpZr3FUNdC"
      },
      "execution_count": null,
      "outputs": []
    }
  ]
}